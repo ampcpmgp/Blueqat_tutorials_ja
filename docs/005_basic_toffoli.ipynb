{
  "nbformat": 4,
  "nbformat_minor": 0,
  "metadata": {
    "colab": {
      "name": "005_basic_toffoli.ipynb",
      "version": "0.3.2",
      "provenance": [],
      "collapsed_sections": []
    },
    "kernelspec": {
      "display_name": "Python 3",
      "language": "python",
      "name": "python3"
    }
  },
  "cells": [
    {
      "metadata": {
        "colab_type": "text",
        "id": "NjHnSAbHrInP"
      },
      "cell_type": "markdown",
      "source": [
        "# トフォリゲート\n",
        "前回までは1量子ビットと2量子ビットの演算を行なってきました。トフォリゲートは3量子ビットを利用する演算です。\n",
        "\n",
        "実機では2量子ビットゲートまでが実装されますが、トフォリゲートはその1量子ビットゲートと2量子ビットゲートを組み合わせて実装されます。早速見てみましょう。"
      ]
    },
    {
      "metadata": {
        "colab_type": "text",
        "id": "PKhFYi-drld1"
      },
      "cell_type": "markdown",
      "source": [
        "## 回路の作成\n",
        "回路はHとCXとTで構成されます。ちょっと長いですががんばってかいてみましょう。\n",
        "\n"
      ]
    },
    {
      "metadata": {
        "colab_type": "code",
        "id": "O674HiVxjc7P",
        "colab": {
          "base_uri": "https://localhost:8080/",
          "height": 34
        },
        "outputId": "1ce43735-ed6a-4cb3-d6b0-90cdc4355988"
      },
      "cell_type": "code",
      "source": [
        "from blueqat import Circuit\n",
        "import numpy as np\n",
        "\n",
        "Circuit().x[1:].h[0].cnot[1,0].rz(-np.pi/4)[0].cnot[2,0].rz(np.pi/4)[0].cnot[1,0].rz(-np.pi/4)[0].cnot[2,0].rz(np.pi/4)[:1].h[0].cnot[1,0].cnot[0,1].cnot[1,0].cnot[2,0].rz(-np.pi/4)[0].rz(np.pi/4)[2].cnot[2,0].m[:].run(shots=1)"
      ],
      "execution_count": 16,
      "outputs": [
        {
          "output_type": "execute_result",
          "data": {
            "text/plain": [
              "Counter({'111': 1})"
            ]
          },
          "metadata": {
            "tags": []
          },
          "execution_count": 16
        }
      ]
    },
    {
      "metadata": {
        "id": "Pj4TW4zHDG7d",
        "colab_type": "text"
      },
      "cell_type": "markdown",
      "source": [
        "こちらは1番目、2番目が1の時0番目も1になるという回路です。トフォリゲートはccxとも呼ばれていて、cx回路の「コントロールゲート」に当たるゲートが２つあります。Blueqatでは上記を毎回かいていると大変なので簡略表記がありますので、そちらを描いてみてください。"
      ]
    },
    {
      "metadata": {
        "id": "Y8AkbhLAqQic",
        "colab_type": "code",
        "colab": {
          "base_uri": "https://localhost:8080/",
          "height": 34
        },
        "outputId": "75156cc2-fdf6-44d8-e9ee-735b4f5afb7a"
      },
      "cell_type": "code",
      "source": [
        "Circuit().x[:2].ccx[0,1,2].m[:].run(shots=1)"
      ],
      "execution_count": 15,
      "outputs": [
        {
          "output_type": "execute_result",
          "data": {
            "text/plain": [
              "Counter({'111': 1})"
            ]
          },
          "metadata": {
            "tags": []
          },
          "execution_count": 15
        }
      ]
    },
    {
      "metadata": {
        "id": "JXe-r85-qq8Z",
        "colab_type": "text"
      },
      "cell_type": "markdown",
      "source": [
        "このようにとても短い記述で同じゲートを使うことができました。Blueqatではccxゲートの中にきちんと上記の長いゲートが入っているため、実機での実行にもきちんと対応しています。以上です。"
      ]
    }
  ]
}