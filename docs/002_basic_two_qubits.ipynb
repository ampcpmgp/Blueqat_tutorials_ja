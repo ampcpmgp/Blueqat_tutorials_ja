{
  "nbformat": 4,
  "nbformat_minor": 0,
  "metadata": {
    "colab": {
      "name": "002_basic_two_qubits.ipynb",
      "version": "0.3.2",
      "provenance": []
    },
    "kernelspec": {
      "display_name": "Python 3",
      "language": "python",
      "name": "python3"
    }
  },
  "cells": [
    {
      "metadata": {
        "colab_type": "text",
        "id": "NjHnSAbHrInP"
      },
      "cell_type": "markdown",
      "source": [
        "# ２量子ビットの基本の操作を覚える\n",
        "ここでは前回に引き続き２量子ビットの計算を覚えます。量子コンピュータでは２量子ビットの操作によってより複雑な計算を行うことができます。"
      ]
    },
    {
      "metadata": {
        "colab_type": "text",
        "id": "PKhFYi-drld1"
      },
      "cell_type": "markdown",
      "source": [
        "## 回路の作成\n",
        "基本回路の作成方法は１量子ビットの場合と同じですが、今回は２量子ビットをつなげます。Blueqatでは最初に量子ビット数を指定する必要がありません（指定しても大丈夫です）。早速CXという回路を作ってみましょう。"
      ]
    },
    {
      "metadata": {
        "colab_type": "code",
        "id": "O674HiVxjc7P",
        "colab": {
          "base_uri": "https://localhost:8080/",
          "height": 34
        },
        "outputId": "5af84dab-5f66-4aab-cb95-f3a914eaf2d3"
      },
      "cell_type": "code",
      "source": [
        "from blueqat import Circuit\n",
        "\n",
        "Circuit().cx[0,1].m[:].run(shots=1)"
      ],
      "execution_count": 2,
      "outputs": [
        {
          "output_type": "execute_result",
          "data": {
            "text/plain": [
              "Counter({'00': 1})"
            ]
          },
          "metadata": {
            "tags": []
          },
          "execution_count": 2
        }
      ]
    },
    {
      "metadata": {
        "id": "Pj4TW4zHDG7d",
        "colab_type": "text"
      },
      "cell_type": "markdown",
      "source": [
        "上記回路では00という答えが出ました。回路の中にcx回路が入っていますので２量子ビットで答えが出ます。00は両方とも0という意味です。"
      ]
    },
    {
      "metadata": {
        "colab_type": "text",
        "id": "xP6vOtYi-uHz"
      },
      "cell_type": "markdown",
      "source": [
        "## CX回路について\n",
        "CX回路はCNOT回路とも呼ばれます。.cx[コントロールゲート,ターゲットゲート]とcxのゲートの中に「コントロールゲート」と「ターゲットゲート」と呼ばれる量子ビットを指定します。cxゲートはコントロールゲートが1の時だけ、ターゲットゲートを反転させます。\n",
        "\n",
        "\n",
        "今回は両方とも量子ビットは0からスタートして、cxゲートがかかりました。0番目の量子ビットは0なので、1番目の量子ビットには何も操作がされません。"
      ]
    },
    {
      "metadata": {
        "colab_type": "text",
        "id": "wHrRyYvfuCMC"
      },
      "cell_type": "markdown",
      "source": [
        "## 再びCX回路\n",
        "CX回路の効果を実感するために最初に0番目の量子ビットにXゲートを適用して0を1にしておきます。それからCX回路をかけてみましょう。\n"
      ]
    },
    {
      "metadata": {
        "colab_type": "code",
        "id": "s4nPf83otvoG",
        "outputId": "3fdc0df5-e486-4025-a1ea-496a9d483b7e",
        "colab": {
          "base_uri": "https://localhost:8080/",
          "height": 34
        }
      },
      "cell_type": "code",
      "source": [
        "Circuit().x[0].cx[0,1].m[:].run(shots=1)"
      ],
      "execution_count": 3,
      "outputs": [
        {
          "output_type": "execute_result",
          "data": {
            "text/plain": [
              "Counter({'11': 1})"
            ]
          },
          "metadata": {
            "tags": []
          },
          "execution_count": 3
        }
      ]
    },
    {
      "metadata": {
        "id": "bnQKAJQuBKNS",
        "colab_type": "text"
      },
      "cell_type": "markdown",
      "source": [
        "今度は11という答えが出て両方が1になりました。これは、0番目の量子ビットがまずXゲートによって1になり、それに反応してCX回路が1番目の量子ビットを0から1に反転させたため、答えが11となっています。"
      ]
    },
    {
      "metadata": {
        "id": "j7qObHmWBWoX",
        "colab_type": "text"
      },
      "cell_type": "markdown",
      "source": [
        "## （応用）量子ビットの数を指定する\n",
        "量子ビットの数を最初から指定することもできます。その際にはCircuit()のなかに引数を設定しましょう。"
      ]
    },
    {
      "metadata": {
        "id": "uzaQ3WSwBYgf",
        "colab_type": "code",
        "outputId": "8fc5f96f-9dbb-41a9-ec14-ff059dc34f2c",
        "colab": {
          "base_uri": "https://localhost:8080/",
          "height": 34
        }
      },
      "cell_type": "code",
      "source": [
        "Circuit(3).x[0].cx[0,1].m[:].run(shots=1)"
      ],
      "execution_count": 4,
      "outputs": [
        {
          "output_type": "execute_result",
          "data": {
            "text/plain": [
              "Counter({'110': 1})"
            ]
          },
          "metadata": {
            "tags": []
          },
          "execution_count": 4
        }
      ]
    },
    {
      "metadata": {
        "id": "7SL_2kj7BnuQ",
        "colab_type": "text"
      },
      "cell_type": "markdown",
      "source": [
        "110となりました。最初の2量子ビットは計算に使用されましたが、最後の量子ビットは使用されないままでした。以上です。"
      ]
    }
  ]
}