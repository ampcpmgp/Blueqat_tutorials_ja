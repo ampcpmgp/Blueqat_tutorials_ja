{
  "nbformat": 4,
  "nbformat_minor": 0,
  "metadata": {
    "colab": {
      "name": "008_basic_general.ipynb",
      "version": "0.3.2",
      "provenance": [],
      "collapsed_sections": []
    },
    "kernelspec": {
      "display_name": "Python 3",
      "language": "python",
      "name": "python3"
    }
  },
  "cells": [
    {
      "metadata": {
        "colab_type": "text",
        "id": "NjHnSAbHrInP"
      },
      "cell_type": "markdown",
      "source": [
        "# 加算回路\n",
        "量子コンピュータには従来のコンピュータと同じ計算もできるという特徴があります。加算回路を活用してそれを確認してみましょう。まずは0+0,0+1,1+0,1+1をしてみます。"
      ]
    },
    {
      "metadata": {
        "colab_type": "text",
        "id": "PKhFYi-drld1"
      },
      "cell_type": "markdown",
      "source": [
        "## 2進数の加算回路\n",
        "足し算は桁上がりを担当するccxゲートと、位の足し合わせを実現するcxゲートで実現できます。今回はa+b=cdという回路を考えます。\n",
        "\n",
        "0+0 = 00 => 0000  \n",
        "0+1 = 10 => 0110  \n",
        "1+0 = 10 => 1010  \n",
        "1+1 = 01 =>1101  \n",
        "\n",
        "となります。この４つがでれば正解です。加算回路は四回使うので先に作っておきます。\n",
        "1のようなデータの入力はXゲートを使って実装します。\n",
        "\n",
        "\n"
      ]
    },
    {
      "metadata": {
        "colab_type": "code",
        "id": "O674HiVxjc7P",
        "colab": {
          "base_uri": "https://localhost:8080/",
          "height": 34
        },
        "outputId": "5236e6a0-ff0c-4341-e8fc-114bd7f25ba7"
      },
      "cell_type": "code",
      "source": [
        "from blueqat import Circuit\n",
        "\n",
        "adder = Circuit().ccx[0,1,3].cx[1,2].cx[0,2]\n",
        "\n",
        "#0+0\n",
        "(Circuit() + adder).m[:].run(shots=1)"
      ],
      "execution_count": 63,
      "outputs": [
        {
          "output_type": "execute_result",
          "data": {
            "text/plain": [
              "Counter({'0000': 1})"
            ]
          },
          "metadata": {
            "tags": []
          },
          "execution_count": 63
        }
      ]
    },
    {
      "metadata": {
        "id": "xlTAVvSt3iZv",
        "colab_type": "code",
        "colab": {
          "base_uri": "https://localhost:8080/",
          "height": 34
        },
        "outputId": "e712aee9-d4e4-4f68-c0ed-6907907488da"
      },
      "cell_type": "code",
      "source": [
        "#0+1\n",
        "(Circuit().x[1] + adder).m[:].run(shots=1)"
      ],
      "execution_count": 65,
      "outputs": [
        {
          "output_type": "execute_result",
          "data": {
            "text/plain": [
              "Counter({'0110': 1})"
            ]
          },
          "metadata": {
            "tags": []
          },
          "execution_count": 65
        }
      ]
    },
    {
      "metadata": {
        "id": "BtkqFj8n3kBS",
        "colab_type": "code",
        "colab": {
          "base_uri": "https://localhost:8080/",
          "height": 34
        },
        "outputId": "c7be412b-2154-4825-a74f-525e9b9b53c9"
      },
      "cell_type": "code",
      "source": [
        "#1+0\n",
        "(Circuit().x[0] + adder).m[:].run(shots=1)"
      ],
      "execution_count": 67,
      "outputs": [
        {
          "output_type": "execute_result",
          "data": {
            "text/plain": [
              "Counter({'1010': 1})"
            ]
          },
          "metadata": {
            "tags": []
          },
          "execution_count": 67
        }
      ]
    },
    {
      "metadata": {
        "id": "JnmWCnOf3xGw",
        "colab_type": "code",
        "colab": {
          "base_uri": "https://localhost:8080/",
          "height": 34
        },
        "outputId": "535e0388-a96a-4db2-b2dc-2d848d96a822"
      },
      "cell_type": "code",
      "source": [
        "#1+1\n",
        "(Circuit().x[0].x[1] + adder).m[:].run(shots=1)"
      ],
      "execution_count": 72,
      "outputs": [
        {
          "output_type": "execute_result",
          "data": {
            "text/plain": [
              "Counter({'1101': 1})"
            ]
          },
          "metadata": {
            "tags": []
          },
          "execution_count": 72
        }
      ]
    },
    {
      "metadata": {
        "id": "OPe8FDu04AtN",
        "colab_type": "text"
      },
      "cell_type": "markdown",
      "source": [
        "このようにすべて充しました。これで汎用の加算回路が実現できました。"
      ]
    }
  ]
}