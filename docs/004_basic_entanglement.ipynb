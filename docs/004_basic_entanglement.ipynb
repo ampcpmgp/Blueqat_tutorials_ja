{
  "nbformat": 4,
  "nbformat_minor": 0,
  "metadata": {
    "colab": {
      "name": "004_basic_entanglement.ipynb",
      "version": "0.3.2",
      "provenance": [],
      "collapsed_sections": []
    },
    "kernelspec": {
      "display_name": "Python 3",
      "language": "python",
      "name": "python3"
    }
  },
  "cells": [
    {
      "metadata": {
        "colab_type": "text",
        "id": "NjHnSAbHrInP"
      },
      "cell_type": "markdown",
      "source": [
        "# 量子のもつれ\n",
        "量子コンピュータでは、量子の重ね合わせを利用しただけでは多くのデータを絞りきれません。量子のもつれを使うことによって、２量子ビット以上の量子ビットにデータの同期を持ち込むことができて、数多くの組み合わせからデータを絞り込むことができます。"
      ]
    },
    {
      "metadata": {
        "colab_type": "text",
        "id": "PKhFYi-drld1"
      },
      "cell_type": "markdown",
      "source": [
        "## 回路の作成\n",
        "回路はシンプルです。アダマールゲートを適用した後にCXゲートを適用してみます。"
      ]
    },
    {
      "metadata": {
        "colab_type": "code",
        "id": "O674HiVxjc7P",
        "colab": {
          "base_uri": "https://localhost:8080/",
          "height": 34
        },
        "outputId": "8ddb1697-9dbc-4bb0-d3d9-83c696ad1dc7"
      },
      "cell_type": "code",
      "source": [
        "from blueqat import Circuit\n",
        "\n",
        "Circuit().h[0].cx[0,1].m[:].run(shots=100)"
      ],
      "execution_count": 11,
      "outputs": [
        {
          "output_type": "execute_result",
          "data": {
            "text/plain": [
              "Counter({'00': 52, '11': 48})"
            ]
          },
          "metadata": {
            "tags": []
          },
          "execution_count": 11
        }
      ]
    },
    {
      "metadata": {
        "id": "Pj4TW4zHDG7d",
        "colab_type": "text"
      },
      "cell_type": "markdown",
      "source": [
        "00が52回。11が48回出ました。本来は組み合わせとしては、00,01,10,11の４通り出るはずですが、今回の回路では２通りのみが出ます。これは0番目の量子ビットと1番目の量子ビットのデータが同期しているからです。\n",
        "\n",
        "このように量子もつれが実装できました。"
      ]
    }
  ]
}