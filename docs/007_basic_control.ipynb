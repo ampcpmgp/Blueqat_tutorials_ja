{
  "nbformat": 4,
  "nbformat_minor": 0,
  "metadata": {
    "colab": {
      "name": "007_basic_control.ipynb",
      "version": "0.3.2",
      "provenance": [],
      "collapsed_sections": []
    },
    "kernelspec": {
      "display_name": "Python 3",
      "language": "python",
      "name": "python3"
    }
  },
  "cells": [
    {
      "metadata": {
        "colab_type": "text",
        "id": "NjHnSAbHrInP"
      },
      "cell_type": "markdown",
      "source": [
        "# 制御ゲート\n",
        "制御ゲートはCXゲートのように「コントロールゲート」と「ターゲットゲート」で構成されます。CXゲートは名前の通りXが使われていますが、その他ZやYやRzのように回転を導入したものもあります。\n",
        "\n",
        "制御ゲートが最初からツールで用意されていれば良いのですが、そうでない場合には自分で作る必要があります。確認していきましょう。"
      ]
    },
    {
      "metadata": {
        "colab_type": "text",
        "id": "PKhFYi-drld1"
      },
      "cell_type": "markdown",
      "source": [
        "## CX,CY,CZゲート\n",
        "CXゲートをベースに軸の回転を使って実現してみます。まずはいつも通りCX\n",
        "\n"
      ]
    },
    {
      "metadata": {
        "colab_type": "code",
        "id": "O674HiVxjc7P",
        "colab": {
          "base_uri": "https://localhost:8080/",
          "height": 34
        },
        "outputId": "a04a2da6-4aaa-4c55-a46b-3b99c55d6d14"
      },
      "cell_type": "code",
      "source": [
        "from blueqat import Circuit\n",
        "\n",
        "Circuit().x[0].cx[0,1].m[:].run(shots=1)"
      ],
      "execution_count": 18,
      "outputs": [
        {
          "output_type": "execute_result",
          "data": {
            "text/plain": [
              "Counter({'11': 1})"
            ]
          },
          "metadata": {
            "tags": []
          },
          "execution_count": 18
        }
      ]
    },
    {
      "metadata": {
        "id": "Pj4TW4zHDG7d",
        "colab_type": "text"
      },
      "cell_type": "markdown",
      "source": [
        "CXが適用されて11になりました。次にCZです。1番目の量子ビットにZゲートを適用するためにはあらかじめ量子ビットを+状態に持っていく必要があります。そのため.h[1]を適用しておきます。"
      ]
    },
    {
      "metadata": {
        "id": "QSRNs5yHvCQs",
        "colab_type": "code",
        "colab": {
          "base_uri": "https://localhost:8080/",
          "height": 34
        },
        "outputId": "4da38256-2ae6-4e24-b195-f76d3fa8d28d"
      },
      "cell_type": "code",
      "source": [
        "Circuit().x[0].h[1].cz[0,1].h[1].m[:].run(shots=1)"
      ],
      "execution_count": 19,
      "outputs": [
        {
          "output_type": "execute_result",
          "data": {
            "text/plain": [
              "Counter({'11': 1})"
            ]
          },
          "metadata": {
            "tags": []
          },
          "execution_count": 19
        }
      ]
    },
    {
      "metadata": {
        "id": "0arOnsSfvU0s",
        "colab_type": "text"
      },
      "cell_type": "markdown",
      "source": [
        "上記は無事CZが適用され、11となっています。CZが聞いていなかったら10のままのはずです。"
      ]
    },
    {
      "metadata": {
        "id": "dPkM71bZwqri",
        "colab_type": "text"
      },
      "cell_type": "markdown",
      "source": [
        "## （応用）制御Rzゲート\n",
        "応用で任意回転ゲートを実装してみます。任意回転ゲートはRzゲートがあります。こちらを２つとCXゲートを２つ用意することで実現できます。\n",
        "\n",
        "最初の任意回転は回転させたい角度をΘとおいて、Θ/2。２つめは-Θ/2とします。"
      ]
    },
    {
      "metadata": {
        "id": "Wq68b6gExT0z",
        "colab_type": "code",
        "colab": {
          "base_uri": "https://localhost:8080/",
          "height": 34
        },
        "outputId": "788eaec7-01a3-48ca-c1b5-737b68bfaa47"
      },
      "cell_type": "code",
      "source": [
        "import math\n",
        "\n",
        "Circuit().x[1].h[0].rz(math.pi/2)[0].cx[1,0].rz(-math.pi/2)[0].cx[1,0].h[0].m[:].run(shots=100)"
      ],
      "execution_count": 55,
      "outputs": [
        {
          "output_type": "execute_result",
          "data": {
            "text/plain": [
              "Counter({'11': 100})"
            ]
          },
          "metadata": {
            "tags": []
          },
          "execution_count": 55
        }
      ]
    },
    {
      "metadata": {
        "id": "R2qO3lmA0QB5",
        "colab_type": "text"
      },
      "cell_type": "markdown",
      "source": [
        "もし1番目の量子ビットが0なら、"
      ]
    },
    {
      "metadata": {
        "id": "YYeojJyjx9h_",
        "colab_type": "code",
        "colab": {
          "base_uri": "https://localhost:8080/",
          "height": 34
        },
        "outputId": "2b330f5b-6406-4949-b80c-8f4cfa131f25"
      },
      "cell_type": "code",
      "source": [
        "Circuit().h[0].rz(math.pi/2)[0].cx[1,0].rz(-math.pi/2)[0].cx[1,0].h[0].m[:].run(shots=100)"
      ],
      "execution_count": 56,
      "outputs": [
        {
          "output_type": "execute_result",
          "data": {
            "text/plain": [
              "Counter({'00': 100})"
            ]
          },
          "metadata": {
            "tags": []
          },
          "execution_count": 56
        }
      ]
    },
    {
      "metadata": {
        "id": "MeZ9-edF0VbY",
        "colab_type": "text"
      },
      "cell_type": "markdown",
      "source": [
        "制御Rzはききません。以上です。"
      ]
    }
  ]
}