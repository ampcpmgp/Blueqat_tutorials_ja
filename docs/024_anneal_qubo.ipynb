{
  "nbformat": 4,
  "nbformat_minor": 0,
  "metadata": {
    "colab": {
      "name": "024_anneal_qubo.ipynb",
      "version": "0.3.2",
      "provenance": [],
      "collapsed_sections": []
    },
    "kernelspec": {
      "display_name": "Python 3",
      "language": "python",
      "name": "python3"
    }
  },
  "cells": [
    {
      "metadata": {
        "id": "Ke7dyo7rFyUe",
        "colab_type": "text"
      },
      "cell_type": "markdown",
      "source": [
        "## 量子アニーリングとQUBO\n",
        "前回のチュートリアルではいしはらさとみ と呼ばれる-1と+1を使った式を学びました。今回は産業界でよく使われている01のバイナリ値をみてみます。"
      ]
    },
    {
      "metadata": {
        "id": "5_HU7GuQF5QE",
        "colab_type": "text"
      },
      "cell_type": "markdown",
      "source": [
        "##QUBOコスト関数\n",
        "ハミルトニアンやコスト関数、エネルギー関数と呼ばれる関数を最小にするように計算します。ここでは簡単な問題を通じてそれを確かめてみましょう。\n",
        "\n",
        "E = q[0]+q[0]*q[1]\n",
        "\n",
        "というコスト関数があったとします。これを計算してみましょう。今回qは1と0という数字を取りうるQUBOと呼ばれるモデルで計算してみます。計算で解いてみます。\n",
        "\n",
        "問題の設定は簡単です、q[0]とq[1]の係数を見てみます。q[0]の係数は1でq[1]はありませんので0です。\n",
        "そして、q[0]*q[1]の係数は1です。これを行列に直してみます。ここは全く同じです。"
      ]
    },
    {
      "metadata": {
        "id": "5kcY82PnVI2H",
        "colab_type": "text"
      },
      "cell_type": "markdown",
      "source": [
        "##QUBOmatrix\n",
        "QUBOはQUBOmatrixと呼ばれる上三角行列で表現されるmatrixに係数を埋めていきます。\n",
        "まずは縦横にq[0],q[1]を配置したイジングmatrixを用意してみます。\n",
        "\n",
        "0 , 0  \n",
        "0 , 0  \n",
        "\n",
        "こちらに、上記のq[0]の係数が1、q[1]の係数が0のため、対応するところに1を置きます。このとき上半分だけ使います。\n",
        "\n",
        "1 , 0  \n",
        "0 , 0\n",
        "\n",
        "そして次にq[0]*q[1]の係数が1のため、これを非対角項に配置します。\n",
        "\n",
        "1 , 1  \n",
        "0 , 0  \n",
        "\n",
        "この行列を解きます。"
      ]
    },
    {
      "metadata": {
        "id": "9LpScRYyV05W",
        "colab_type": "text"
      },
      "cell_type": "markdown",
      "source": [
        "##まずは読み込み\n",
        "blueqatからoptモジュールを読み込みます。"
      ]
    },
    {
      "metadata": {
        "id": "cjerHPm3WOVo",
        "colab_type": "code",
        "colab": {}
      },
      "cell_type": "code",
      "source": [
        "from blueqat import opt\n",
        "\n",
        "a = opt.opt()"
      ],
      "execution_count": 0,
      "outputs": []
    },
    {
      "metadata": {
        "id": "7ZrKi0VPWQDy",
        "colab_type": "text"
      },
      "cell_type": "markdown",
      "source": [
        "次に早速問題を設定します。"
      ]
    },
    {
      "metadata": {
        "id": "qzVe_fZMQ0TC",
        "colab_type": "code",
        "colab": {}
      },
      "cell_type": "code",
      "source": [
        "a.qubo = [[1,1],[0,0]]"
      ],
      "execution_count": 0,
      "outputs": []
    },
    {
      "metadata": {
        "id": "PGBkYSP1F7yy",
        "colab_type": "text"
      },
      "cell_type": "markdown",
      "source": [
        "そして実行します。100回計算して集計してみます。アニーリングでは繰り返し計算をすることが多いです。"
      ]
    },
    {
      "metadata": {
        "id": "MbkCTqEfR7be",
        "colab_type": "code",
        "colab": {
          "base_uri": "https://localhost:8080/",
          "height": 34
        },
        "outputId": "a6c37f38-603c-402b-c6d5-d7d5a6f2be19"
      },
      "cell_type": "code",
      "source": [
        "result = a.sa(shots=100,sampler=\"fast\")\n",
        "opt.counter(result)"
      ],
      "execution_count": 40,
      "outputs": [
        {
          "output_type": "execute_result",
          "data": {
            "text/plain": [
              "Counter({'00': 52, '01': 48})"
            ]
          },
          "metadata": {
            "tags": []
          },
          "execution_count": 40
        }
      ]
    },
    {
      "metadata": {
        "id": "0q2SopjVTg9o",
        "colab_type": "text"
      },
      "cell_type": "markdown",
      "source": [
        "今回00と01という答えが半々ででてきました。答えはq[0]=0,q[1]=0と、q[0]=0,q[1]=1という２つのパターンがあります。今回は両方が答えでした。両方ともE=0で最小をとります。\n",
        "\n",
        "このようにコスト関数を01で考えることによって問題を解くことができます。"
      ]
    }
  ]
}