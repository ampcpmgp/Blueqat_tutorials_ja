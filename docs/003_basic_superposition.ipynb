{
  "nbformat": 4,
  "nbformat_minor": 0,
  "metadata": {
    "colab": {
      "name": "003_basic_superposition.ipynb",
      "version": "0.3.2",
      "provenance": [],
      "collapsed_sections": []
    },
    "kernelspec": {
      "display_name": "Python 3",
      "language": "python",
      "name": "python3"
    }
  },
  "cells": [
    {
      "metadata": {
        "colab_type": "text",
        "id": "NjHnSAbHrInP"
      },
      "cell_type": "markdown",
      "source": [
        "# 量子重ね合わせと測定\n",
        "ここではすこし量子コンピュータぽい回路を確認します。重ね合わせです。重ね合わせは0と1が重ね合わさっていると表現されます。基本的には重ね合わせ＝組み合わせなので組み合わせと捉えてもいいと思います。早速やってみましょう。"
      ]
    },
    {
      "metadata": {
        "colab_type": "text",
        "id": "PKhFYi-drld1"
      },
      "cell_type": "markdown",
      "source": [
        "## 回路の作成\n",
        "回路はとてもシンプルです。アダマールゲートと呼ばれるゲートを使うことで重ね合わせを実現できます。ここでは重ね合わせを実感するために100回実行してみましょう。Hゲートを0番目の量子ビットにかけてみます。\n"
      ]
    },
    {
      "metadata": {
        "colab_type": "code",
        "id": "O674HiVxjc7P",
        "colab": {
          "base_uri": "https://localhost:8080/",
          "height": 34
        },
        "outputId": "4d480575-18b1-4366-87ab-4a2790f5e819"
      },
      "cell_type": "code",
      "source": [
        "from blueqat import Circuit\n",
        "\n",
        "Circuit().h[0].m[:].run(shots=100)"
      ],
      "execution_count": 6,
      "outputs": [
        {
          "output_type": "execute_result",
          "data": {
            "text/plain": [
              "Counter({'0': 49, '1': 51})"
            ]
          },
          "metadata": {
            "tags": []
          },
          "execution_count": 6
        }
      ]
    },
    {
      "metadata": {
        "id": "Pj4TW4zHDG7d",
        "colab_type": "text"
      },
      "cell_type": "markdown",
      "source": [
        "上記は0が49回。1が51回でました。これが重ね合わせです。アダマールゲートを初期状態にかけると重ね合わせ状態が実現され、+という状態になります。これはちょうど0と1の間で、量子コンピュータで計算をして測定をすると0か1が50%ずつで出現します。"
      ]
    },
    {
      "metadata": {
        "colab_type": "text",
        "id": "wHrRyYvfuCMC"
      },
      "cell_type": "markdown",
      "source": [
        "## （応用）マイナス状態で重ね合わせを作ってみる\n",
        "アダマールゲートを設定した場合、+状態と呼ばれる状態になります。これに対して-状態もあります。それも少しみてみます。マイナス状態は+状態に対してZゲートを適用することで実現できます。\n"
      ]
    },
    {
      "metadata": {
        "colab_type": "code",
        "id": "s4nPf83otvoG",
        "outputId": "c9fd07ff-f8b9-4ea4-a0b1-094364970a3b",
        "colab": {
          "base_uri": "https://localhost:8080/",
          "height": 34
        }
      },
      "cell_type": "code",
      "source": [
        "Circuit().h[0].z[0].m[:].run(shots=100)"
      ],
      "execution_count": 8,
      "outputs": [
        {
          "output_type": "execute_result",
          "data": {
            "text/plain": [
              "Counter({'0': 47, '1': 53})"
            ]
          },
          "metadata": {
            "tags": []
          },
          "execution_count": 8
        }
      ]
    },
    {
      "metadata": {
        "id": "bnQKAJQuBKNS",
        "colab_type": "text"
      },
      "cell_type": "markdown",
      "source": [
        "このように0と1がやはり約半々で出てきました。プラス状態とマイナス状態は区別がつかないので、シミュレータでは状態ベクトルを見ます。\n"
      ]
    },
    {
      "metadata": {
        "id": "uzaQ3WSwBYgf",
        "colab_type": "code",
        "outputId": "945446f9-f043-4bdf-b7a8-9b86e3f5f088",
        "colab": {
          "base_uri": "https://localhost:8080/",
          "height": 34
        }
      },
      "cell_type": "code",
      "source": [
        "Circuit().h[0].run()"
      ],
      "execution_count": 9,
      "outputs": [
        {
          "output_type": "execute_result",
          "data": {
            "text/plain": [
              "array([0.70710678+0.j, 0.70710678+0.j])"
            ]
          },
          "metadata": {
            "tags": []
          },
          "execution_count": 9
        }
      ]
    },
    {
      "metadata": {
        "id": "7SL_2kj7BnuQ",
        "colab_type": "text"
      },
      "cell_type": "markdown",
      "source": [
        "+状態の状態ベクトルは+符号で同様に出てきました。"
      ]
    },
    {
      "metadata": {
        "id": "SdPHY7RBGuxe",
        "colab_type": "code",
        "colab": {
          "base_uri": "https://localhost:8080/",
          "height": 34
        },
        "outputId": "bea9ab9e-f8ac-4313-86e4-b9d4dd411216"
      },
      "cell_type": "code",
      "source": [
        "Circuit().h[0].z[0].run()"
      ],
      "execution_count": 10,
      "outputs": [
        {
          "output_type": "execute_result",
          "data": {
            "text/plain": [
              "array([ 0.70710678+0.j, -0.70710678+0.j])"
            ]
          },
          "metadata": {
            "tags": []
          },
          "execution_count": 10
        }
      ]
    },
    {
      "metadata": {
        "id": "Y6NtTz8fGyQQ",
        "colab_type": "text"
      },
      "cell_type": "markdown",
      "source": [
        "一方、-状態では、状態ベクトルの一部が-になっています。このように区別をつけて確認できます。これはシミュレータだけの機能で、実際の量子コンピュータでは使用することができません。以上です。"
      ]
    }
  ]
}